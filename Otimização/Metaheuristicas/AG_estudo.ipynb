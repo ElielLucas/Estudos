{
  "nbformat": 4,
  "nbformat_minor": 0,
  "metadata": {
    "colab": {
      "provenance": [],
      "include_colab_link": true
    },
    "kernelspec": {
      "name": "python3",
      "display_name": "Python 3"
    },
    "language_info": {
      "name": "python"
    }
  },
  "cells": [
    {
      "cell_type": "markdown",
      "metadata": {
        "id": "view-in-github",
        "colab_type": "text"
      },
      "source": [
        "<a href=\"https://colab.research.google.com/github/ElielLucas/Estudos/blob/main/Otimiza%C3%A7%C3%A3o/Metaheuristicas/AG_estudo.ipynb\" target=\"_parent\"><img src=\"https://colab.research.google.com/assets/colab-badge.svg\" alt=\"Open In Colab\"/></a>"
      ]
    },
    {
      "cell_type": "code",
      "source": [
        "from random import random,choice, randint, randrange\n",
        "import math\n",
        "import numpy as np"
      ],
      "metadata": {
        "id": "d-0vxuWOVTLm"
      },
      "execution_count": null,
      "outputs": []
    },
    {
      "cell_type": "code",
      "source": [
        "class Cromossomo():\n",
        "  def __init__(self, tamanho):\n",
        "      self.tamanho = tamanho\n",
        "      self.cromo = self.montarCromossomo()\n",
        "      self.valorReal = self.decodificacao(self.cromo)\n",
        "      self.fit = self.calcularFitness()\n",
        "\n",
        "  def montarCromossomo(self):\n",
        "      cromossomo = []\n",
        "      for i in range(self.tamanho):\n",
        "          cromossomo.append(1 if random() > 0.5 else 0)\n",
        "      return cromossomo\n",
        "\n",
        "  def decodificacao(self, vetBinario):\n",
        "    num = 0\n",
        "    for i in range(self.tamanho):\n",
        "        num += vetBinario[i] * (2**(self.tamanho-i-1))\n",
        "    return num\n",
        "\n",
        "  def calcularFitness(self):\n",
        "      #Aplica o valor na função\n",
        "      fit = math.sin(10*math.pi*self.valorReal)/(2*self.valorReal) + (self.valorReal-1)**4\n",
        "\n",
        "      if fit >= 0:\n",
        "        self.avaliacao = 1/(1 + fit)\n",
        "      else:\n",
        "        self.avaliacao = 1 + abs(fit)\n",
        "\n",
        "      return self.avaliacao\n",
        "\n",
        "\n",
        "  def getCromo(self):\n",
        "      return self.cromo\n",
        "\n",
        "  def setCromo(self, valor):\n",
        "      self.cromo = valor\n",
        "\n",
        "  def getFit(self):\n",
        "      return self.fit\n"
      ],
      "metadata": {
        "id": "zck7TMT9DVp0"
      },
      "execution_count": null,
      "outputs": []
    },
    {
      "cell_type": "code",
      "source": [
        "def gerarPopulacaoInicial(N_POP):\n",
        "  #Gera cromossomos\n",
        "  list_cromossomos = []\n",
        "  list_fit = []\n",
        "  for i in range(N_POP):\n",
        "    cromossomo = Cromossomo(10)\n",
        "    list_cromossomos.append(cromossomo)\n",
        "    list_fit.append(cromossomo.getFit())\n",
        "\n",
        "  return (list_cromossomos, list_fit)\n"
      ],
      "metadata": {
        "id": "xZTb_SdIV0jI"
      },
      "execution_count": null,
      "outputs": []
    },
    {
      "cell_type": "code",
      "execution_count": null,
      "metadata": {
        "id": "g3re6YXO50JF"
      },
      "outputs": [],
      "source": [
        "# Seleção por Roleta\n",
        "def ROULETTE_WHEEL_SELECTION(FIT, N_POP):\n",
        "    \"\"\"\n",
        "    This function selects two individuals from a list using the roulette wheel method.\n",
        "\n",
        "    Input:\n",
        "    FIT       | All fitness values                      | Py Numpy array[N_POP x 1]\n",
        "    N_POP     | Number of population                    | Integer\n",
        "\n",
        "    Output:\n",
        "    PARENTS   | ID of selected parents                  | Py list[2]\n",
        "    \"\"\"\n",
        "\n",
        "    # Roulette wheel procedure\n",
        "    IDS = np.linspace(0, N_POP, N_POP, endpoint = False)\n",
        "    SUM_FIT = FIT.sum()\n",
        "    PROB = []\n",
        "    for I_COUNT in range(N_POP):\n",
        "        FIT_K = FIT[I_COUNT]\n",
        "        PROB_K = FIT_K / SUM_FIT\n",
        "        PROB.append(PROB_K)\n",
        "\n",
        "    IDS = np.random.choice(IDS, 2, replace = False, p = PROB)\n",
        "\n",
        "    return (int(IDS[0]), int(IDS[1]))"
      ]
    },
    {
      "cell_type": "code",
      "source": [
        "def TORNEIO_1(FIT, N_POP):\n",
        "    IDS = np.linspace(0, N_POP, N_POP, endpoint = False)\n",
        "    participantes_torneio = list(zip(IDS, FIT))\n",
        "\n",
        "    cromossomo_1 = participantes_torneio[randint(0, N_POP - 1)]\n",
        "    cromossomo_2 = participantes_torneio[randint(0, N_POP - 1)]\n",
        "\n",
        "    return cromossomo_1[0] if cromossomo_1[1] <= cromossomo_2[1] else cromossomo_2[0]"
      ],
      "metadata": {
        "id": "bkuZGmHz0iBX"
      },
      "execution_count": null,
      "outputs": []
    },
    {
      "cell_type": "code",
      "source": [
        "def TORNEIO_2(FIT, N_POP):\n",
        "    PARENTS_ID = []\n",
        "    while len(PARENTS_ID) < 2:\n",
        "      melhor_cromossomo = randrange(N_POP//2)\n",
        "      for _ in range(2):\n",
        "          cromossomo_desafiante = randint(0, N_POP - 1)\n",
        "          if FIT[melhor_cromossomo] < FIT[cromossomo_desafiante]:\n",
        "              melhor_cromossomo = cromossomo_desafiante\n",
        "      if len(PARENTS_ID) == 0:\n",
        "         PARENTS_ID.append(melhor_cromossomo)\n",
        "      elif PARENTS_ID[0] != melhor_cromossomo:\n",
        "         PARENTS_ID.append(melhor_cromossomo)\n",
        "\n",
        "    return PARENTS_ID"
      ],
      "metadata": {
        "id": "p4vHqN89CE9-"
      },
      "execution_count": null,
      "outputs": []
    },
    {
      "cell_type": "code",
      "source": [
        "def TORNEIO_3(FIT, N_POP):\n",
        "    selecionados = []\n",
        "    for i in range(N_POP):\n",
        "      cromossomo_1 = randint(0, N_POP-1)\n",
        "      cromossomo_2 = randint(0, N_POP-1)\n",
        "\n",
        "      if FIT[cromossomo_1] < FIT[cromossomo_2]:\n",
        "          selecionados.append(cromossomo_1)\n",
        "      else:\n",
        "          selecionados.append(cromossomo_2)\n",
        "    return (selecionados[0], selecionados[1])\n"
      ],
      "metadata": {
        "id": "LexQcPoa4EO6"
      },
      "execution_count": null,
      "outputs": []
    },
    {
      "cell_type": "code",
      "source": [
        "def TORNEIO_4(FIT, N_POP):\n",
        "    cromossomo_1 = randrange(N_POP//2)\n",
        "    cromossomo_2 = randrange(N_POP//2, N_POP)\n",
        "\n",
        "    return cromossomo_1 if FIT[cromossomo_1] <= FIT[cromossomo_2] else cromossomo_2"
      ],
      "metadata": {
        "id": "uhY3JqL-C8Ms"
      },
      "execution_count": null,
      "outputs": []
    },
    {
      "cell_type": "code",
      "source": [
        "def crossover_1_ponto(cromoPai, cromoMae):\n",
        "  pontoCorte = randint(1, len(cromoPai) - 1)\n",
        "\n",
        "  filho1 = cromoPai[:pontoCorte] + cromoMae[pontoCorte:]\n",
        "  filho2 = cromoMae[:pontoCorte] + cromoPai[pontoCorte:]\n",
        "\n",
        "  return [filho1, filho2]"
      ],
      "metadata": {
        "id": "XoYe6gP3xdWH"
      },
      "execution_count": null,
      "outputs": []
    },
    {
      "cell_type": "code",
      "source": [
        "def crossover_N_ponto(cromoPai, cromoMae, N):\n",
        "    pontosCorte = sorted(set([randint(1, len(cromoPai) - 1) for i in range(N)]))\n",
        "\n",
        "    print(pontosCorte)\n",
        "\n",
        "    filho1 = cromoPai[:pontosCorte[0]] + cromoMae[pontosCorte[0]:pontosCorte[1]] + cromoMae[pontosCorte[1]:]\n",
        "    filho2 = cromoMae[:pontosCorte[0]] + cromoPai[pontosCorte[0]:pontosCorte[1]] + cromoPai[pontosCorte[1]:]\n",
        "\n",
        "    print(filho1)\n",
        "    print(filho2)\n",
        "\n",
        "    return [filho1, filho2]"
      ],
      "metadata": {
        "id": "7dsMdIKF4cM2"
      },
      "execution_count": null,
      "outputs": []
    },
    {
      "cell_type": "code",
      "source": [
        "def crossover_uniforme(cromoPai, cromoMae):\n",
        "  tamanho = len(cromoPai)\n",
        "  filho1 = []\n",
        "  filho2 = []\n",
        "  for gene in range(tamanho):\n",
        "    chosen = randint(1, 2)\n",
        "    print(chosen)\n",
        "    if chosen == 1:\n",
        "      filho1.append(cromoPai[gene])\n",
        "      filho2.append(cromoMae[gene])\n",
        "    else:\n",
        "      filho1.append(cromoMae[gene])\n",
        "      filho2.append(cromoPai[gene])\n",
        "\n",
        "  print(filho1)\n",
        "  print(filho2)\n",
        "\n",
        "  return [filho1, filho2]\n"
      ],
      "metadata": {
        "id": "zNY5XPC152wX"
      },
      "execution_count": null,
      "outputs": []
    },
    {
      "cell_type": "code",
      "source": [
        "import numpy as np\n",
        "\n",
        "n_pop = 4\n",
        "individuos, fit = gerarPopulacaoInicial(n_pop)\n",
        "\n",
        "print(fit)\n",
        "\n",
        "x, y = TORNEIO_3(np.array(fit), n_pop)\n",
        "\n",
        "print(individuos[x].cromo)\n",
        "print(individuos[y].cromo)\n",
        "\n",
        "\n"
      ],
      "metadata": {
        "colab": {
          "base_uri": "https://localhost:8080/"
        },
        "id": "hM_At4OO7VOG",
        "outputId": "3e010a31-ffb6-4fc4-de7b-2401259b331c"
      },
      "execution_count": null,
      "outputs": [
        {
          "output_type": "stream",
          "name": "stdout",
          "text": [
            "[7.513672224152732e-12, 3.979852431712101e-12, 1.5371867761914437e-10, 2.0869242945018115e-12]\n",
            "[0, 1, 0, 0, 0, 1, 1, 1, 0, 1]\n",
            "[1, 0, 1, 1, 0, 0, 0, 1, 0, 1]\n"
          ]
        }
      ]
    }
  ]
}